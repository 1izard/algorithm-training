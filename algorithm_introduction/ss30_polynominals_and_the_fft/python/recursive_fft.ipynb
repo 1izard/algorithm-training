{
 "cells": [
  {
   "cell_type": "code",
   "execution_count": 4,
   "metadata": {
    "ExecuteTime": {
     "end_time": "2020-08-04T04:00:06.156048Z",
     "start_time": "2020-08-04T04:00:06.153235Z"
    }
   },
   "outputs": [],
   "source": [
    "import cmath\n",
    "import matplotlib.pyplot as plt\n",
    "import numpy as np\n",
    "from typing import List"
   ]
  },
  {
   "cell_type": "code",
   "execution_count": 5,
   "metadata": {
    "ExecuteTime": {
     "end_time": "2020-08-04T04:00:09.967096Z",
     "start_time": "2020-08-04T04:00:09.961213Z"
    }
   },
   "outputs": [],
   "source": [
    "def recursive_fft(a: List[int]) -> List[complex]:\n",
    "    n = len(a)\n",
    "    if n == 1:\n",
    "        return a\n",
    "    wn = cmath.rect(1.0, 2 * np.pi / n)\n",
    "    w = 1\n",
    "    a0 = a[::2]\n",
    "    a1 = a[1::2]\n",
    "    y0 = recursive_fft(a0)\n",
    "    y1 = recursive_fft(a1)\n",
    "    y = [0] * n\n",
    "    for k in range(n // 2):\n",
    "        y[k] = y0[k] + w * y1[k]\n",
    "        y[k + n // 2] = y0[k] - w * y1[k]\n",
    "        w *= wn\n",
    "    return y"
   ]
  },
  {
   "cell_type": "code",
   "execution_count": 6,
   "metadata": {
    "ExecuteTime": {
     "end_time": "2020-08-04T04:00:53.015020Z",
     "start_time": "2020-08-04T04:00:53.009332Z"
    }
   },
   "outputs": [],
   "source": [
    "def fact(n: int) -> int:\n",
    "    if n <= 1:\n",
    "        return 1\n",
    "    ret = 1\n",
    "    for i in range(2, n + 1):\n",
    "        ret *= i\n",
    "    return ret"
   ]
  },
  {
   "cell_type": "code",
   "execution_count": 45,
   "metadata": {
    "ExecuteTime": {
     "end_time": "2020-08-04T04:35:47.547668Z",
     "start_time": "2020-08-04T04:35:47.543519Z"
    }
   },
   "outputs": [],
   "source": [
    "def euler_sin(a: int, n: int) -> List[float]:\n",
    "    ret = []\n",
    "    for i in range(n):\n",
    "        if i % 2 != 0:\n",
    "            if ((i - 1) // 2) % 2 == 0:\n",
    "                ret.append(1 / fact(i))\n",
    "            else:\n",
    "                ret.append(-(1 / fact(i)))\n",
    "        else:\n",
    "            ret.append(0.0)\n",
    "    return ret"
   ]
  },
  {
   "cell_type": "code",
   "execution_count": 44,
   "metadata": {
    "ExecuteTime": {
     "end_time": "2020-08-04T04:35:45.116733Z",
     "start_time": "2020-08-04T04:35:45.110574Z"
    }
   },
   "outputs": [],
   "source": [
    "def euler_cos(a: int, n: int) -> List[float]:\n",
    "    ret = []\n",
    "    for i in range(n):\n",
    "        if i % 2 == 0:\n",
    "            if (i // 2) % 2 == 0:\n",
    "                ret.append(1 / fact(i))\n",
    "            else:\n",
    "                ret.append(-(1 / fact(i)))\n",
    "        else:\n",
    "            ret.append(0.0)\n",
    "    return ret"
   ]
  },
  {
   "cell_type": "code",
   "execution_count": 61,
   "metadata": {
    "ExecuteTime": {
     "end_time": "2020-08-04T04:40:08.559150Z",
     "start_time": "2020-08-04T04:40:08.307265Z"
    }
   },
   "outputs": [
    {
     "data": {
      "text/plain": [
       "[<matplotlib.lines.Line2D at 0x1168919a0>]"
      ]
     },
     "execution_count": 61,
     "metadata": {},
     "output_type": "execute_result"
    },
    {
     "data": {
      "image/png": "[encoded data removed]",
      "text/plain": [
       "<Figure size 432x288 with 1 Axes>"
      ]
     },
     "metadata": {
      "needs_background": "light"
     },
     "output_type": "display_data"
    }
   ],
   "source": [
    "N = 32\n",
    "n = np.arange(N)\n",
    "f1 = 1\n",
    "A1 = 1\n",
    "f_np = A1 * np.sin(2 * np.pi * f1 * n / N)\n",
    "plt.plot(f_np)"
   ]
  },
  {
   "cell_type": "code",
   "execution_count": 62,
   "metadata": {
    "ExecuteTime": {
     "end_time": "2020-08-04T04:40:11.203772Z",
     "start_time": "2020-08-04T04:40:10.870318Z"
    }
   },
   "outputs": [
    {
     "data": {
      "text/plain": [
       "[<matplotlib.lines.Line2D at 0x1162baf10>]"
      ]
     },
     "execution_count": 62,
     "metadata": {},
     "output_type": "execute_result"
    },
    {
     "data": {
      "image/png": "[encoded data removed]",
      "text/plain": [
       "<Figure size 432x288 with 1 Axes>"
      ]
     },
     "metadata": {
      "needs_background": "light"
     },
     "output_type": "display_data"
    }
   ],
   "source": [
    "F_np = np.fft.fft(f_np)\n",
    "plt.plot(np.abs(F_np))"
   ]
  },
  {
   "cell_type": "code",
   "execution_count": 63,
   "metadata": {
    "ExecuteTime": {
     "end_time": "2020-08-04T04:40:22.572354Z",
     "start_time": "2020-08-04T04:40:22.565154Z"
    }
   },
   "outputs": [
    {
     "data": {
      "text/plain": [
       "array([-2.38357803e-16+0.00000000e+00j, -2.45393303e-15-1.60000000e+01j,\n",
       "       -5.90478604e-16-9.18805124e-16j,  3.00060287e-16-6.22390159e-16j,\n",
       "        1.35356204e-16-6.53242291e-16j, -3.71447813e-16-7.12120758e-16j,\n",
       "        1.23631323e-16-4.81751308e-16j, -3.44509285e-16-1.11022302e-15j,\n",
       "        1.22464680e-16+3.05311332e-16j,  4.32646832e-16-1.33226763e-15j,\n",
       "        1.22036276e-15+3.95268809e-16j,  8.29530172e-16+5.97502205e-16j,\n",
       "        3.31617761e-16+4.56980734e-16j, -3.71447813e-16+8.40837747e-17j,\n",
       "       -2.63656757e-16+4.02304202e-16j, -1.22464680e-16+8.88178420e-16j,\n",
       "        3.91979531e-17+0.00000000e+00j,  2.10602227e-16+0.00000000e+00j,\n",
       "       -2.63656757e-16-4.02304202e-16j, -4.14918928e-16-9.47702299e-16j,\n",
       "        3.31617761e-16-4.56980734e-16j,  5.70607663e-16-3.98102266e-16j,\n",
       "        1.22036276e-15-3.95268809e-16j,  1.43184755e-15+1.11022302e-15j,\n",
       "        1.22464680e-16-3.05311332e-16j,  4.32646832e-16+1.33226763e-15j,\n",
       "        1.23631323e-16+4.81751308e-16j, -3.16351831e-16+9.72590254e-16j,\n",
       "        1.35356204e-16+6.53242291e-16j,  5.70607663e-16+1.02613925e-15j,\n",
       "       -5.90478604e-16+9.18805124e-16j, -2.34291073e-15+1.60000000e+01j])"
      ]
     },
     "execution_count": 63,
     "metadata": {},
     "output_type": "execute_result"
    }
   ],
   "source": [
    "F_np"
   ]
  },
  {
   "cell_type": "code",
   "execution_count": 54,
   "metadata": {
    "ExecuteTime": {
     "end_time": "2020-08-04T04:39:15.021610Z",
     "start_time": "2020-08-04T04:39:15.013512Z"
    }
   },
   "outputs": [
    {
     "data": {
      "text/plain": [
       "[0.0,\n",
       " 1.0,\n",
       " 0.0,\n",
       " -0.16666666666666666,\n",
       " 0.0,\n",
       " 0.008333333333333333,\n",
       " 0.0,\n",
       " -0.0001984126984126984,\n",
       " 0.0,\n",
       " 2.7557319223985893e-06,\n",
       " 0.0,\n",
       " -2.505210838544172e-08,\n",
       " 0.0,\n",
       " 1.6059043836821613e-10,\n",
       " 0.0,\n",
       " -7.647163731819816e-13,\n",
       " 0.0,\n",
       " 2.8114572543455206e-15,\n",
       " 0.0,\n",
       " -8.22063524662433e-18,\n",
       " 0.0,\n",
       " 1.9572941063391263e-20,\n",
       " 0.0,\n",
       " -3.868170170630684e-23,\n",
       " 0.0,\n",
       " 6.446950284384474e-26,\n",
       " 0.0,\n",
       " -9.183689863795546e-29,\n",
       " 0.0,\n",
       " 1.1309962886447716e-31,\n",
       " 0.0,\n",
       " -1.216125041553518e-34]"
      ]
     },
     "execution_count": 54,
     "metadata": {},
     "output_type": "execute_result"
    }
   ],
   "source": [
    "f = euler_sin(1, 32)\n",
    "f"
   ]
  },
  {
   "cell_type": "code",
   "execution_count": 55,
   "metadata": {
    "ExecuteTime": {
     "end_time": "2020-08-04T04:39:18.668327Z",
     "start_time": "2020-08-04T04:39:18.660828Z"
    }
   },
   "outputs": [
    {
     "data": {
      "text/plain": [
       "[0.8414709848078966,\n",
       " (0.8467975313995431+0.1092322784016431j),\n",
       " (0.857090704961908+0.2363255455557896j),\n",
       " (0.8559231939548145+0.3938944503942579j),\n",
       " (0.8189270221070483+0.5835053242126248j),\n",
       " (0.7204929387121821+0.7906726713781292j),\n",
       " (0.5444372019402796+0.984285211048856j),\n",
       " (0.29481159824337233+1.1240314577902637j),\n",
       " (6.523677118751579e-17+1.1752011936438014j),\n",
       " (-0.2948115982433723+1.1240314577902637j),\n",
       " (-0.5444372019402793+0.984285211048856j),\n",
       " (-0.7204929387121817+0.7906726713781291j),\n",
       " (-0.818927022107048+0.5835053242126247j),\n",
       " (-0.8559231939548141+0.39389445039425786j),\n",
       " (-0.8570907049619075+0.23632554555578955j),\n",
       " (-0.8467975313995426+0.1092322784016431j),\n",
       " -0.8414709848078966,\n",
       " (-0.8467975313995431-0.1092322784016431j),\n",
       " (-0.857090704961908-0.2363255455557896j),\n",
       " (-0.8559231939548145-0.3938944503942579j),\n",
       " (-0.8189270221070483-0.5835053242126248j),\n",
       " (-0.7204929387121821-0.7906726713781292j),\n",
       " (-0.5444372019402796-0.984285211048856j),\n",
       " (-0.29481159824337233-1.1240314577902637j),\n",
       " (-6.523677118751579e-17-1.1752011936438014j),\n",
       " (0.2948115982433723-1.1240314577902637j),\n",
       " (0.5444372019402793-0.984285211048856j),\n",
       " (0.7204929387121817-0.7906726713781291j),\n",
       " (0.818927022107048-0.5835053242126247j),\n",
       " (0.8559231939548141-0.39389445039425786j),\n",
       " (0.8570907049619075-0.23632554555578955j),\n",
       " (0.8467975313995426-0.1092322784016431j)]"
      ]
     },
     "execution_count": 55,
     "metadata": {},
     "output_type": "execute_result"
    }
   ],
   "source": [
    "F = recursive_fft(f)\n",
    "F"
   ]
  },
  {
   "cell_type": "code",
   "execution_count": 56,
   "metadata": {
    "ExecuteTime": {
     "end_time": "2020-08-04T04:39:21.931088Z",
     "start_time": "2020-08-04T04:39:21.673015Z"
    }
   },
   "outputs": [
    {
     "data": {
      "text/plain": [
       "[<matplotlib.lines.Line2D at 0x11649b8b0>]"
      ]
     },
     "execution_count": 56,
     "metadata": {},
     "output_type": "execute_result"
    },
    {
     "data": {
      "image/png": "[encoded data removed]",
      "text/plain": [
       "<Figure size 432x288 with 1 Axes>"
      ]
     },
     "metadata": {
      "needs_background": "light"
     },
     "output_type": "display_data"
    }
   ],
   "source": [
    "plt.plot(np.abs(np.array(F)))"
   ]
  },
  {
   "cell_type": "code",
   "execution_count": 67,
   "metadata": {
    "ExecuteTime": {
     "end_time": "2020-08-04T04:53:05.240139Z",
     "start_time": "2020-08-04T04:53:05.234781Z"
    }
   },
   "outputs": [],
   "source": [
    "def calc_euler_sin(f: List[float], x: List[complex]) -> List[complex]:\n",
    "    def _calc(x: complex):\n",
    "        ret = 0\n",
    "        for i in range(len(f)):\n",
    "            ret += f[i] * (x ** i)\n",
    "        return ret\n",
    "    return list(map(_calc, x))"
   ]
  },
  {
   "cell_type": "code",
   "execution_count": 101,
   "metadata": {
    "ExecuteTime": {
     "end_time": "2020-08-04T05:17:46.540394Z",
     "start_time": "2020-08-04T05:17:46.535386Z"
    }
   },
   "outputs": [],
   "source": [
    "N = 32\n",
    "res = calc_euler_sin(euler_sin(1, N), [cmath.rect(1.0, 2 * np.pi * i / N) for i in range(N)])"
   ]
  },
  {
   "cell_type": "code",
   "execution_count": 102,
   "metadata": {
    "ExecuteTime": {
     "end_time": "2020-08-04T05:17:47.142848Z",
     "start_time": "2020-08-04T05:17:46.961102Z"
    }
   },
   "outputs": [
    {
     "data": {
      "text/plain": [
       "[<matplotlib.lines.Line2D at 0x117824e20>]"
      ]
     },
     "execution_count": 102,
     "metadata": {},
     "output_type": "execute_result"
    },
    {
     "data": {
      "image/png": "[encoded data removed]",
      "text/plain": [
       "<Figure size 432x288 with 1 Axes>"
      ]
     },
     "metadata": {
      "needs_background": "light"
     },
     "output_type": "display_data"
    }
   ],
   "source": [
    "plt.plot(list(range(len(res))), list(map(lambda x: x.imag, res)))"
   ]
  },
  {
   "cell_type": "code",
   "execution_count": 85,
   "metadata": {
    "ExecuteTime": {
     "end_time": "2020-08-04T05:13:12.942799Z",
     "start_time": "2020-08-04T05:13:12.673151Z"
    }
   },
   "outputs": [
    {
     "data": {
      "text/plain": [
       "[<matplotlib.lines.Line2D at 0x1172fb400>]"
      ]
     },
     "execution_count": 85,
     "metadata": {},
     "output_type": "execute_result"
    },
    {
     "data": {
      "image/png": "[encoded data removed]",
      "text/plain": [
       "<Figure size 432x288 with 1 Axes>"
      ]
     },
     "metadata": {
      "needs_background": "light"
     },
     "output_type": "display_data"
    }
   ],
   "source": [
    "plt.plot(list(range(len(res))), list(map(abs, res)))"
   ]
  },
  {
   "cell_type": "code",
   "execution_count": 103,
   "metadata": {
    "ExecuteTime": {
     "end_time": "2020-08-04T05:19:24.267063Z",
     "start_time": "2020-08-04T05:19:24.263026Z"
    }
   },
   "outputs": [],
   "source": [
    "N = 64\n",
    "res = calc_euler_sin(euler_cos(1, N), [cmath.rect(1.0, 2 * np.pi * i / N) for i in range(N)])"
   ]
  },
  {
   "cell_type": "code",
   "execution_count": 104,
   "metadata": {
    "ExecuteTime": {
     "end_time": "2020-08-04T05:19:25.035219Z",
     "start_time": "2020-08-04T05:19:24.852652Z"
    }
   },
   "outputs": [
    {
     "data": {
      "text/plain": [
       "[<matplotlib.lines.Line2D at 0x11795c430>]"
      ]
     },
     "execution_count": 104,
     "metadata": {},
     "output_type": "execute_result"
    },
    {
     "data": {
      "image/png": "[encoded data removed]",
      "text/plain": [
       "<Figure size 432x288 with 1 Axes>"
      ]
     },
     "metadata": {
      "needs_background": "light"
     },
     "output_type": "display_data"
    }
   ],
   "source": [
    "plt.plot(list(range(N)), list(map(lambda x: x.real, res)))"
   ]
  },
  {
   "cell_type": "code",
   "execution_count": 89,
   "metadata": {
    "ExecuteTime": {
     "end_time": "2020-08-04T05:13:48.265873Z",
     "start_time": "2020-08-04T05:13:48.069146Z"
    }
   },
   "outputs": [
    {
     "data": {
      "text/plain": [
       "[<matplotlib.lines.Line2D at 0x117136b20>]"
      ]
     },
     "execution_count": 89,
     "metadata": {},
     "output_type": "execute_result"
    },
    {
     "data": {
      "image/png": "[encoded data removed]",
      "text/plain": [
       "<Figure size 432x288 with 1 Axes>"
      ]
     },
     "metadata": {
      "needs_background": "light"
     },
     "output_type": "display_data"
    }
   ],
   "source": [
    "plt.plot(list(range(N)), list(map(abs, res)))"
   ]
  },
  {
   "cell_type": "code",
   "execution_count": 105,
   "metadata": {
    "ExecuteTime": {
     "end_time": "2020-08-04T05:36:21.120089Z",
     "start_time": "2020-08-04T05:36:21.111565Z"
    }
   },
   "outputs": [],
   "source": [
    "def rev(k: int, n: int) -> int:\n",
    "    return int(format(k, f'0{n}b')[::-1], 2)\n",
    "\n",
    "\n",
    "def bit_reverse_copy(a: List[int]) -> List[int]:\n",
    "    n = len(a)\n",
    "    A = [0] * n\n",
    "    for i in range(n):\n",
    "        A[rev(i, int(cmath.log(n)))] = a[i]\n",
    "\n",
    "\n",
    "def iterative_fft(a: List[int]) -> List[float]:\n",
    "    A = bit_reverse_copy(a)\n",
    "    n = len(a)\n",
    "    for s in range(1, int(cmath.log(n))):\n",
    "        m = 2 ** s\n",
    "        wm = cmath.rect(1.0, 2 * cmath.pi / m)\n",
    "        for k in range(0, n, m):\n",
    "            w = 1\n",
    "            for j in range(m // 2):\n",
    "                t = w * A[k + j + m // 2]\n",
    "                u = A[k + j]\n",
    "                A[k + j] = u + t\n",
    "                A[k + j + m // 2] = u - t\n",
    "                w *= wm\n",
    "    return A"
   ]
  },
  {
   "cell_type": "code",
   "execution_count": null,
   "metadata": {},
   "outputs": [],
   "source": []
  }
 ],
 "metadata": {
  "kernelspec": {
   "display_name": "Python 3",
   "language": "python",
   "name": "python3"
  },
  "language_info": {
   "codemirror_mode": {
    "name": "ipython",
    "version": 3
   },
   "file_extension": ".py",
   "mimetype": "text/x-python",
   "name": "python",
   "nbconvert_exporter": "python",
   "pygments_lexer": "ipython3",
   "version": "3.8.4"
  }
 },
 "nbformat": 4,
 "nbformat_minor": 4
}
